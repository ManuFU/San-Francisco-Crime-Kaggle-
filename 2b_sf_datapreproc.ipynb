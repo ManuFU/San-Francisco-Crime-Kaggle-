{
 "cells": [
  {
   "cell_type": "code",
   "execution_count": 1,
   "metadata": {
    "collapsed": true
   },
   "outputs": [],
   "source": [
    "# Import Libraries \n",
    "import os\n",
    "import pandas as pd\n",
    "import numpy as np\n",
    "import matplotlib.pyplot as plt\n",
    "import csv\n",
    "import time\n",
    "import researchpy as rp\n",
    "\n",
    "from sklearn import metrics, preprocessing, linear_model, model_selection\n",
    "from sklearn.preprocessing import LabelEncoder, StandardScaler\n",
    "from sklearn.ensemble import ExtraTreesClassifier\n",
    "from scipy import stats\n",
    "from tqdm import tqdm"
   ]
  },
  {
   "cell_type": "code",
   "execution_count": 2,
   "metadata": {
    "collapsed": true
   },
   "outputs": [],
   "source": [
    "#Lese CSV ein und caste Dates zu datetime64\n",
    "def open_train():\n",
    "    dataset = pd.read_csv('train.csv')\n",
    "    dataset['Dates'] = pd.to_datetime(dataset['Dates']) \n",
    "    return dataset\n",
    "\n",
    "def open_test():\n",
    "    dataset = pd.read_csv('test.csv')\n",
    "    dataset['Dates'] = pd.to_datetime(dataset['Dates']) \n",
    "    return dataset"
   ]
  },
  {
   "cell_type": "code",
   "execution_count": 46,
   "metadata": {
    "collapsed": true
   },
   "outputs": [],
   "source": [
    "def preprocessing_data():\n",
    "    train_data = open_train()\n",
    "    test_data = open_test()\n",
    "    \n",
    "    #Uppercase\n",
    "    train_data['DayOfWeek'] = train_data['DayOfWeek'].str.upper()\n",
    "    train_data['Address'] = train_data['Address'].str.upper()\n",
    "    test_data['DayOfWeek'] = train_data['DayOfWeek'].str.upper()\n",
    "    test_data['Address'] = train_data['Address'].str.upper()\n",
    "    \n",
    "    #Show amount of Data\n",
    "    print('Columns Trainset: ')\n",
    "    print(train_data.shape)\n",
    "    print('Columns Testset: ')\n",
    "    print(test_data.shape)\n",
    "    \n",
    "    #Drop Duplicates\n",
    "    train_data = train_data.drop_duplicates()\n",
    "    print('Columns after Duplicates Trainset: ')\n",
    "    \n",
    "    #Outliers Elimination\n",
    "    train_data = train_data[(np.abs(stats.zscore(train_data['X'])) < 3)]\n",
    "    train_data = train_data[(np.abs(stats.zscore(train_data['Y'])) < 3)]\n",
    "    print('Columns after after Z-Score Analysis Trainset: ')\n",
    "    print(train_data.shape)\n",
    "\n",
    "    #Split Data\n",
    "    for x in [train_data, test_data]:\n",
    "        x['years'] = x['Dates'].dt.year\n",
    "        x['months'] = x['Dates'].dt.month\n",
    "        x['days'] = x['Dates'].dt.day\n",
    "        x['hours'] = x['Dates'].dt.hour\n",
    "        x['minutes'] = x['Dates'].dt.minute\n",
    "        x['seconds'] = x['Dates'].dt.second\n",
    "        \n",
    "    #Drop Dates\n",
    "    train_data = train_data.drop(['Dates'], axis = 1)\n",
    "    test_data = test_data.drop(['Dates'], axis = 1)\n",
    "    \n",
    "    #Drop Attributes \n",
    "    train_data = train_data.drop(['Address','Resolution','Descript', 'minutes', 'seconds'], axis = 1)\n",
    "    test_data = test_data.drop(['Address', 'minutes', 'seconds'], axis = 1)\n",
    "    \n",
    "    # Alle Leerzeichen löschen\n",
    "    train_data.columns = train_data.columns.str.replace(' ', '')\n",
    "    test_data.columns = test_data.columns.str.replace(' ', '')\n",
    "    \n",
    "     #Transformation\n",
    "    train_data['Category'] = LabelEncoder().fit_transform(train_data.Category)\n",
    "    feature_cols =['DayOfWeek', 'PdDistrict']\n",
    "    \n",
    "    #Transform Data into binary \n",
    "    train_data = pd.get_dummies(train_data, columns=feature_cols)\n",
    "    test_data = pd.get_dummies(test_data, columns=feature_cols)\n",
    "    \n",
    "    # Missing Values Kontrolle\n",
    "    ms1 = train_data.isnull().any()\n",
    "    ms2 = train_data.isnull().any()\n",
    "    print(ms1)\n",
    "    print(ms2)\n",
    "    \n",
    "    #Make Feature Columns\n",
    "    feature_cols = [x for x in train_data if x!='Category']\n",
    "    \n",
    "    X = train_data[feature_cols]\n",
    "    y = train_data['Category']\n",
    "    \n",
    "    x_train, x_test,y_train, y_test = model_selection.train_test_split(X, y, train_size=.80)\n",
    "    \n",
    "    return x_train, x_test,y_train, y_test, test_data"
   ]
  },
  {
   "cell_type": "code",
   "execution_count": 47,
   "metadata": {
    "scrolled": true
   },
   "outputs": [
    {
     "name": "stdout",
     "output_type": "stream",
     "text": [
      "Columns Trainset: \n",
      "(878049, 9)\n",
      "Columns Testset: \n",
      "(884262, 7)\n",
      "Columns after Duplicates Trainset: \n",
      "Columns after after Z-Score Analysis Trainset: \n",
      "(875659, 9)\n",
      "Category                 False\n",
      "X                        False\n",
      "Y                        False\n",
      "years                    False\n",
      "months                   False\n",
      "days                     False\n",
      "hours                    False\n",
      "DayOfWeek_FRIDAY         False\n",
      "DayOfWeek_MONDAY         False\n",
      "DayOfWeek_SATURDAY       False\n",
      "DayOfWeek_SUNDAY         False\n",
      "DayOfWeek_THURSDAY       False\n",
      "DayOfWeek_TUESDAY        False\n",
      "DayOfWeek_WEDNESDAY      False\n",
      "PdDistrict_BAYVIEW       False\n",
      "PdDistrict_CENTRAL       False\n",
      "PdDistrict_INGLESIDE     False\n",
      "PdDistrict_MISSION       False\n",
      "PdDistrict_NORTHERN      False\n",
      "PdDistrict_PARK          False\n",
      "PdDistrict_RICHMOND      False\n",
      "PdDistrict_SOUTHERN      False\n",
      "PdDistrict_TARAVAL       False\n",
      "PdDistrict_TENDERLOIN    False\n",
      "dtype: bool\n",
      "Category                 False\n",
      "X                        False\n",
      "Y                        False\n",
      "years                    False\n",
      "months                   False\n",
      "days                     False\n",
      "hours                    False\n",
      "DayOfWeek_FRIDAY         False\n",
      "DayOfWeek_MONDAY         False\n",
      "DayOfWeek_SATURDAY       False\n",
      "DayOfWeek_SUNDAY         False\n",
      "DayOfWeek_THURSDAY       False\n",
      "DayOfWeek_TUESDAY        False\n",
      "DayOfWeek_WEDNESDAY      False\n",
      "PdDistrict_BAYVIEW       False\n",
      "PdDistrict_CENTRAL       False\n",
      "PdDistrict_INGLESIDE     False\n",
      "PdDistrict_MISSION       False\n",
      "PdDistrict_NORTHERN      False\n",
      "PdDistrict_PARK          False\n",
      "PdDistrict_RICHMOND      False\n",
      "PdDistrict_SOUTHERN      False\n",
      "PdDistrict_TARAVAL       False\n",
      "PdDistrict_TENDERLOIN    False\n",
      "dtype: bool\n"
     ]
    }
   ],
   "source": [
    "x_train, x_test,y_train, y_test, test_data = preprocessing_data()"
   ]
  },
  {
   "cell_type": "code",
   "execution_count": 48,
   "metadata": {
    "collapsed": true
   },
   "outputs": [],
   "source": [
    "x_train.to_pickle('x_train')\n",
    "x_test.to_pickle('x_test')\n",
    "y_train.to_pickle('y_train')\n",
    "y_test.to_pickle('y_test')\n",
    "test_data.to_pickle('test_data')"
   ]
  },
  {
   "cell_type": "code",
   "execution_count": 51,
   "metadata": {},
   "outputs": [
    {
     "data": {
      "text/plain": [
       "array(['ARSON', 'ASSAULT', 'BAD CHECKS', 'BRIBERY', 'BURGLARY',\n",
       "       'DISORDERLY CONDUCT', 'DRIVING UNDER THE INFLUENCE',\n",
       "       'DRUG/NARCOTIC', 'DRUNKENNESS', 'EMBEZZLEMENT', 'EXTORTION',\n",
       "       'FAMILY OFFENSES', 'FORGERY/COUNTERFEITING', 'FRAUD', 'GAMBLING',\n",
       "       'KIDNAPPING', 'LARCENY/THEFT', 'LIQUOR LAWS', 'LOITERING',\n",
       "       'MISSING PERSON', 'NON-CRIMINAL', 'OTHER OFFENSES',\n",
       "       'PORNOGRAPHY/OBSCENE MAT', 'PROSTITUTION', 'RECOVERED VEHICLE',\n",
       "       'ROBBERY', 'RUNAWAY', 'SECONDARY CODES', 'SEX OFFENSES FORCIBLE',\n",
       "       'SEX OFFENSES NON FORCIBLE', 'STOLEN PROPERTY', 'SUICIDE',\n",
       "       'SUSPICIOUS OCC', 'TREA', 'TRESPASS', 'VANDALISM', 'VEHICLE THEFT',\n",
       "       'WARRANTS', 'WEAPON LAWS'], dtype=object)"
      ]
     },
     "execution_count": 51,
     "metadata": {},
     "output_type": "execute_result"
    }
   ],
   "source": [
    "#Check Mappting of Transformation\n",
    "train_data = open_train()\n",
    "le = preprocessing.LabelEncoder()\n",
    "train_data['Category'] = le.fit_transform(train_data.Category)\n",
    "le.classes_"
   ]
  },
  {
   "cell_type": "code",
   "execution_count": null,
   "metadata": {},
   "outputs": [],
   "source": []
  }
 ],
 "metadata": {
  "kernelspec": {
   "display_name": "Python 3",
   "language": "python",
   "name": "python3"
  },
  "language_info": {
   "codemirror_mode": {
    "name": "ipython",
    "version": 3
   },
   "file_extension": ".py",
   "mimetype": "text/x-python",
   "name": "python",
   "nbconvert_exporter": "python",
   "pygments_lexer": "ipython3",
   "version": "3.7.3"
  }
 },
 "nbformat": 4,
 "nbformat_minor": 2
}
